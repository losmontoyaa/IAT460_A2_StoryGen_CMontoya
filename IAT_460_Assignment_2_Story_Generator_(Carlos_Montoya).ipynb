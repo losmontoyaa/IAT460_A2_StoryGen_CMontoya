{
  "nbformat": 4,
  "nbformat_minor": 0,
  "metadata": {
    "colab": {
      "provenance": [],
      "authorship_tag": "ABX9TyN3C5TwegF0YrxLI+4dNkjF",
      "include_colab_link": true
    },
    "kernelspec": {
      "name": "python3",
      "display_name": "Python 3"
    },
    "language_info": {
      "name": "python"
    }
  },
  "cells": [
    {
      "cell_type": "markdown",
      "metadata": {
        "id": "view-in-github",
        "colab_type": "text"
      },
      "source": [
        "<a href=\"https://colab.research.google.com/github/losmontoyaa/IAT460_A2_StoryGen_CMontoya/blob/main/IAT_460_Assignment_2_Story_Generator_(Carlos_Montoya).ipynb\" target=\"_parent\"><img src=\"https://colab.research.google.com/assets/colab-badge.svg\" alt=\"Open In Colab\"/></a>"
      ]
    },
    {
      "cell_type": "markdown",
      "source": [
        "## **ASSIGNMENT 2: RULE BASED SYSTEM (MAD-LIB STYLE STORY GENERATOR)**\n",
        "**Carlos Montoya // D101 // IAT 460**\n",
        "\n"
      ],
      "metadata": {
        "id": "rECYdmX_0Vdz"
      }
    },
    {
      "cell_type": "code",
      "source": [
        "##--------------- MAD LIB INSPIRED STORY GENERATOR. --------------##\n",
        "##-------- ADAPTED FROM THE LAB 2 GENERATIVE GRAMMARS CODE -------##\n",
        "\n",
        "import random\n",
        "\n",
        "#Defining grammar for story creation.\n",
        "story_grammar = {\n",
        "    'STORY': [['BEGINNING','\\n','MIDDLE', '\\n', 'END']], #I am keeping the broad definition of the story basic with a start, middle & end portion. To add variety, I've incorporate 2 rule set variations on each portion.\n",
        "    'BEGINNING': [\n",
        "        ['Once upon a time in a', 'ADJ', 'SETTING', 'lived a', 'ADJ', 'NOUN', 'named', 'CHAR', '. ', 'CHAR', 'PAST_VERB', 'PLURAL_NOUN', ' and they were known for being ', 'EMOTION', '.'],\n",
        "        ['There once was a ' , 'ADJ', 'NOUN', 'called', 'CHAR', 'who lived in a', 'ADJ', 'LIVING_SPACE', 'in the middle of a', 'ADJ', 'SETTING', '.', 'DIALOGUE', 'CHAR', 'SAID_SYNONYM', 'as they started their day.']],\n",
        "    'MIDDLE': [\n",
        "        ['CHAR','decided that today they were going to', 'ACTIVITY', '. They have been wanting to', 'ACTIVITY', 'for', 'TIMESPAN', 'and today was finally the day.', 'DIALOGUE', 'CHAR', 'SAID_SYNONYM', 'ADVERB', 'as they went out the door of their', 'LIVING_SPACE', 'EMOTION', 'to finally', 'ACTIVITY', 'when all of a sudden,', 'PLOT_POINT', '!'],\n",
        "        ['Today was a', 'EMOTION', 'day, because', 'CHAR', 'was going to do their favourite thing in the whole world!', 'ACTIVITY', '! It was a long standing tradition in','CHAR','s family and they were', 'EMOTION', 'to start! Suddenly,', 'PLOT_POINT', 'which turned the day from crazy, to CRAZIER.', 'CHAR', 'could hardly believe that', 'PLOT_POINT', 'stating', 'DIALOGUE', '.']],\n",
        "    'END': [['In the ensuing chaos,', 'CHAR', 'EMOTION_LY', 'passed away, leaving their home and their loved ones behind. Their final words were', 'DIALOGUE', 'CHAR', 'left everything they owned to the', 'NOUN', 'down the street. The end.'],\n",
        "            ['Thankfully,', 'PLOT_POINT', 'is a regular thing in the', 'SETTING', 'CHAR', 'calls home. No big deal!', 'CHAR', 'just continued their day as normal and was able to', 'ACTIVITY', '. At the end of the day,', 'CHAR', 'returned to their', 'LIVING_SPACE', 'and lived happily ever after.']],\n",
        "\n",
        "    'ADJ': ['brilliant', 'vibrant', 'majestic', 'graceful', 'radiant', 'charming', 'luminous', 'elegant', 'dazzling', 'resilient', 'gloomy', 'hostile', 'bitter', 'dreary', 'menacing', 'arrogant', 'grim', 'harsh', 'cynical', 'abrasive'],\n",
        "    'EMOTION': ['joyful', 'grateful', 'content', 'excited', 'hopeful', 'proud', 'loving', 'peaceful', 'confident', 'inspired', 'angry', 'frustrated', 'anxious', 'jealous', 'guilty', 'overwhelmed', 'lonely', 'resentful', 'worried', 'embarrassed'],\n",
        "    'DIALOGUE': ['\"oh boy!\"', '\"here I go!\"', '\"whats the deal with airline food?\"', '\"oooooh Jerry, Im an AI Jerry.\"', '\"Im walkin here!\"', \"YIKES!\", ['whats the deal with all these', 'ADJ', 'PLURAL_NOUN', 'am I right?'] ],\n",
        "    'SAID_SYNONYM': ['declared', 'expressed', 'announced', 'stated', 'explained', 'proclaimed', 'uttered', 'affirmed', 'elaborated', 'reassured', 'argued', 'complained', 'muttered', 'snapped', 'grumbled', 'groaned', 'scoffed', 'hissed', 'barked', 'whined'],\n",
        "    'ADVERB': ['quickly', 'silently', 'gracefully', 'brightly', 'happily', 'boldly', 'softly', 'suddenly', 'carefully', 'reluctantly'],\n",
        "    'NOUN': ['dragon', 'dinosaur', 'human', 'dude', 'dolphin', 'horse', 'dog', 'cat', 'robot', \"monster\", \"bear\"],\n",
        "    'PLURAL_NOUN': ['children', 'dogs', 'cats', 'trees', 'flowers', 'bananas', 'cities', 'animals'],\n",
        "    'PAST_VERB': ['loved', 'hated', 'bullied', 'embraced', 'admired', 'ignored'],\n",
        "    'EMOTION_LY': ['cheerfully', 'serenely', 'playfully', 'joyously', 'fondly', 'proudly', 'graciously', 'tenderly', 'confidently', 'brightly', 'disappointedly', 'sadly', 'nervously', 'hopelessly', 'angrily', 'desperately', 'dismally', 'suspiciously', 'bitterly', 'restlessly'],\n",
        "\n",
        "    #These grammar lists start empty, as they will be randomly assigned a single choice later on to ensure that when referenced later in a story, the same choice is used.\n",
        "    'CHAR': [],\n",
        "    'SETTING': [],\n",
        "    'ACTIVITY': [],\n",
        "    'TIMESPAN': [],\n",
        "    'PLOT_POINT': [],\n",
        "    'LIVING_SPACE': []\n",
        "    }\n",
        "\n",
        "#Grammar lists for the unfilled portions. Only one of each of these will be put into their respective lists.\n",
        "charList = [\"Kramer\", \"Teemo\", \"Griffin\", \"Philippe\", \"Florence\", \"Alex\", \"Henry\", \"Thomas\", \"James\", \"Bernard\", \"Jacob\", \"Sam\", \"Kendrick\", \"Doechii\", \"Nicki\", \"Stevie\", \"Caitlyn\", \"Evelyn\", \"Poppy\", \"Phoebe\"]\n",
        "settingList = [\"forest\", \"town\", \"ocean\", \"kingdom\", \"treetop\", \"city\"]\n",
        "activityList = [\"fly to the moon\", \"mastering a complicated dance routine\", \"hiking\", \"have a picnic\", \"steal a car\", \"rob a bank\", \"writing a novel\", \"finish this assignment\"]\n",
        "timeList = [\"days\", \"years\", \"months\", \"decades\", \"centuries\", \"millenia\"]\n",
        "livingSpaces = ['house', 'apartment', 'treehouse', 'cave', 'hole in the ground']\n",
        "plotPoints = [\"a meteor strike!\", \"a sinkhole opening at their feet!\", \"a hitman attempts to take them out!\", \"an explosion\"]\n",
        "\n",
        "#method to fill the grammar lists\n",
        "def fillRecurringGrammar():\n",
        "  story_grammar['CHAR'].extend([random.choice(charList)])\n",
        "  story_grammar['SETTING'].extend([random.choice(settingList)])\n",
        "  story_grammar['ACTIVITY'].extend([random.choice(activityList)])\n",
        "  story_grammar['TIMESPAN'].extend([random.choice(timeList)])\n",
        "  story_grammar['LIVING_SPACE'].extend([random.choice(livingSpaces)])\n",
        "  story_grammar['PLOT_POINT'].extend([random.choice(plotPoints)])\n",
        "\n",
        "#method to generate the story.\n",
        "def generate_story(symbol='STORY'):\n",
        "\n",
        "    if isinstance(symbol, str) and symbol in story_grammar:\n",
        "        production = random.choice(story_grammar[symbol])\n",
        "        if isinstance(production, list):\n",
        "            result = [generate_story(sym) for sym in production]\n",
        "            if symbol == 'BREAK':\n",
        "                return ' '.join(result) + '\\n'\n",
        "            return ' '.join(result)\n",
        "        return production\n",
        "\n",
        "    return symbol + ' '\n",
        "\n",
        "#call methods to fill the grammar lists needing to be filled and generate the final story.\n",
        "print(\"Generated Story:\\n\")\n",
        "fillRecurringGrammar();\n",
        "print(generate_story())"
      ],
      "metadata": {
        "id": "RwkU4sIVx6-v",
        "colab": {
          "base_uri": "https://localhost:8080/"
        },
        "outputId": "d893c068-6d94-414e-f3e3-1103dd6eb5bf"
      },
      "execution_count": 25,
      "outputs": [
        {
          "output_type": "stream",
          "name": "stdout",
          "text": [
            "Generated Story:\n",
            "\n",
            "Once upon a time in a  graceful kingdom lived a  cynical dog named  Doechii .   Doechii bullied bananas  and they were known for being   inspired .  \n",
            "  Doechii decided that today they were going to  rob a bank . They have been wanting to  rob a bank for  days and today was finally the day.  \"here I go!\" Doechii groaned quickly as they went out the door of their  house peaceful to finally  rob a bank when all of a sudden,  a meteor strike! !  \n",
            "  Thankfully,  a meteor strike! is a regular thing in the  kingdom Doechii calls home. No big deal!  Doechii just continued their day as normal and was able to  rob a bank . At the end of the day,  Doechii returned to their  house and lived happily ever after. \n"
          ]
        }
      ]
    }
  ]
}